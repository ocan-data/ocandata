{
 "cells": [
  {
   "cell_type": "code",
   "execution_count": null,
   "metadata": {},
   "outputs": [],
   "source": [
    "# default_exp config"
   ]
  },
  {
   "cell_type": "markdown",
   "metadata": {},
   "source": [
    "# config\n",
    "> API details."
   ]
  },
  {
   "cell_type": "code",
   "execution_count": null,
   "metadata": {},
   "outputs": [],
   "source": [
    "#hide\n",
    "from nbdev.showdoc import *"
   ]
  },
  {
   "cell_type": "code",
   "execution_count": null,
   "metadata": {},
   "outputs": [],
   "source": [
    "# export\n",
    "from environs import Env\n",
    "import logging\n",
    "\n",
    "FORMAT = '%(asctime)-15s %(message)s'\n",
    "logging.basicConfig(format=FORMAT)\n",
    "logger = logging.getLogger('ocandata')\n",
    "logger.setLevel(logging.DEBUG)\n",
    "\n",
    "env = Env()\n",
    "env.read_env()\n",
    "\n",
    "CACHE_DIR = env('cache_dir', '.')\n",
    "DOTPATH = env('DOTPATH', 'canadadata')"
   ]
  },
  {
   "cell_type": "code",
   "execution_count": null,
   "metadata": {},
   "outputs": [
    {
     "name": "stdout",
     "output_type": "stream",
     "text": [
      "Converted 00_config.ipynb.\n",
      "Converted 01_core.ipynb.\n",
      "Converted 02_inventory.ipynb.\n",
      "Converted 03_repo.ipynb.\n",
      "Converted 04_statscan.ipynb.\n",
      "Converted 05_text.ipynb.\n",
      "Converted 06_datasets.ipynb.\n",
      "Converted 07_datatools.ipynb.\n",
      "Converted index.ipynb.\n"
     ]
    }
   ],
   "source": [
    "from nbdev.export import *\n",
    "notebook2script()"
   ]
  }
 ],
 "metadata": {
  "kernelspec": {
   "display_name": "ocandata",
   "language": "python",
   "name": "ocandata"
  }
 },
 "nbformat": 4,
 "nbformat_minor": 2
}
