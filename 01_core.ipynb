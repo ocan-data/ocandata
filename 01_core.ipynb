{
 "cells": [
  {
   "cell_type": "code",
   "execution_count": null,
   "metadata": {},
   "outputs": [],
   "source": [
    "# default_exp core"
   ]
  },
  {
   "cell_type": "markdown",
   "metadata": {},
   "source": [
    "# ocandata\n",
    "> API details."
   ]
  },
  {
   "cell_type": "code",
   "execution_count": null,
   "metadata": {},
   "outputs": [],
   "source": [
    "#hide\n",
    "from nbdev.showdoc import *"
   ]
  },
  {
   "cell_type": "code",
   "execution_count": null,
   "metadata": {},
   "outputs": [],
   "source": [
    "# export\n",
    "\n",
    "from typing import Any\n",
    "import requests\n",
    "import concurrent\n",
    "import os\n",
    "from collections.abc import Iterable\n",
    "from concurrent.futures import ProcessPoolExecutor, ThreadPoolExecutor\n",
    "from types import SimpleNamespace\n",
    "from typing import Collection, Any, Optional, Union\n",
    "from fastprogress.fastprogress import progress_bar, ProgressBar"
   ]
  },
  {
   "cell_type": "code",
   "execution_count": null,
   "metadata": {},
   "outputs": [],
   "source": [
    "# export\n",
    "def num_cpus() -> int:\n",
    "    \"Get number of cpus\"\n",
    "    try:\n",
    "        return len(os.sched_getaffinity(0))\n",
    "    except AttributeError:\n",
    "        return os.cpu_count()\n",
    "\n",
    "_default_cpus = min(16, num_cpus())\n",
    "defaults = SimpleNamespace(cpus=_default_cpus, cmap='viridis', return_fig=False, silent=False)\n",
    "\n",
    "\n",
    "def get(url):\n",
    "    res = requests.get(url)\n",
    "    if res.status_code == 200:\n",
    "        return res.text\n",
    "\n",
    "\n",
    "def ifnone(a: Any, b: Any) -> Any:\n",
    "    \"`a` if `a` is not None, otherwise `b`.\"\n",
    "    return b if a is None else a"
   ]
  },
  {
   "cell_type": "code",
   "execution_count": null,
   "metadata": {},
   "outputs": [],
   "source": [
    "# export\n",
    "def parallel(func, arr: Collection, max_workers: int = None, leave=False):\n",
    "    \"Call `func` on every element of `arr` in parallel using `max_workers`.\"\n",
    "    max_workers = ifnone(max_workers, defaults.cpus)\n",
    "    if max_workers < 2:\n",
    "        results = [func(o, i) for i, o in progress_bar(enumerate(arr), total=len(arr), leave=leave)]\n",
    "    else:\n",
    "        with ThreadPoolExecutor(max_workers=max_workers) as ex:\n",
    "            futures = [ex.submit(func, o) for i, o in enumerate(arr)]\n",
    "            results = []\n",
    "            for f in progress_bar(concurrent.futures.as_completed(futures), total=len(arr), leave=leave):\n",
    "                results.append(f.result())\n",
    "    if any([o is not None for o in results]): return results"
   ]
  },
  {
   "cell_type": "code",
   "execution_count": null,
   "metadata": {},
   "outputs": [
    {
     "name": "stdout",
     "output_type": "stream",
     "text": [
      "Converted 00_config.ipynb.\n",
      "Converted 01_core.ipynb.\n",
      "Converted 02_inventory.ipynb.\n",
      "Converted 03_repo.ipynb.\n",
      "Converted 04_statscan.ipynb.\n",
      "Converted 05_text.ipynb.\n",
      "Converted 06_datasets.ipynb.\n",
      "Converted 07_datatools.ipynb.\n",
      "Converted index.ipynb.\n"
     ]
    }
   ],
   "source": [
    "from nbdev.export import *\n",
    "notebook2script()"
   ]
  }
 ],
 "metadata": {
  "kernelspec": {
   "display_name": "ocandata",
   "language": "python",
   "name": "ocandata"
  }
 },
 "nbformat": 4,
 "nbformat_minor": 2
}
