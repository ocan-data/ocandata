{
 "cells": [
  {
   "cell_type": "code",
   "execution_count": null,
   "metadata": {},
   "outputs": [],
   "source": [
    "# default_exp text"
   ]
  },
  {
   "cell_type": "markdown",
   "metadata": {},
   "source": [
    "# text\n",
    "> API details."
   ]
  },
  {
   "cell_type": "code",
   "execution_count": null,
   "metadata": {},
   "outputs": [],
   "source": [
    "#hide\n",
    "from nbdev.showdoc import *"
   ]
  },
  {
   "cell_type": "code",
   "execution_count": null,
   "metadata": {},
   "outputs": [],
   "source": [
    "# export\n",
    "\n",
    "import pandas as pd\n",
    "from nltk.stem import PorterStemmer\n",
    "from nltk.tokenize import word_tokenize\n",
    "from rank_bm25 import BM25Okapi\n",
    "\n",
    "stemmer = PorterStemmer()\n",
    "\n",
    "\n",
    "def get_language(language: str):\n",
    "    if language:\n",
    "        language = language.lower()\n",
    "        if language == 'french' or language == 'fr' or language.startswith('fran'):\n",
    "            return 'French'\n",
    "\n",
    "\n",
    "def stem(string: str):\n",
    "    return stemmer.stem(string)\n",
    "\n",
    "\n",
    "def preprocess(string: str):\n",
    "    string = string.lower()\n",
    "    return [stem(word) for word in word_tokenize(string)]\n",
    "\n",
    "\n",
    "class Bm25Index:\n",
    "\n",
    "    def __init__(self, column):\n",
    "        column = column.fillna('').astype(str).apply(preprocess)\n",
    "        self.bm25 = BM25Okapi(column.tolist())\n",
    "\n",
    "    def get_scores(self, sentence, n=10):\n",
    "        tokenized_query = preprocess(sentence)\n",
    "        doc_scores = self.bm25.get_scores(tokenized_query)\n",
    "        top_indices = (-doc_scores).argsort()[:n]\n",
    "        top_scores = doc_scores[top_indices]\n",
    "        return top_indices, top_scores\n"
   ]
  },
  {
   "cell_type": "code",
   "execution_count": null,
   "metadata": {},
   "outputs": [
    {
     "name": "stdout",
     "output_type": "stream",
     "text": [
      "Converted 00_config.ipynb.\n",
      "Converted 01_core.ipynb.\n",
      "Converted 02_text.ipynb.\n",
      "Converted 03_inventory.ipynb.\n",
      "Converted 04_repo.ipynb.\n",
      "Converted 05_datatools.ipynb.\n",
      "Converted 06_datasets.ipynb.\n",
      "Converted 07_statscan.ipynb.\n",
      "Converted index.ipynb.\n"
     ]
    }
   ],
   "source": [
    "from nbdev.export import *\n",
    "notebook2script()"
   ]
  }
 ],
 "metadata": {
  "kernelspec": {
   "display_name": "ocandata",
   "language": "python",
   "name": "ocandata"
  }
 },
 "nbformat": 4,
 "nbformat_minor": 2
}
