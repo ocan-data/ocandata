{
 "cells": [
  {
   "cell_type": "code",
   "execution_count": null,
   "metadata": {},
   "outputs": [],
   "source": [
    "# default_exp repo"
   ]
  },
  {
   "cell_type": "markdown",
   "metadata": {},
   "source": [
    "# repo\n",
    "> API details"
   ]
  },
  {
   "cell_type": "code",
   "execution_count": null,
   "metadata": {},
   "outputs": [],
   "source": [
    "# export\n",
    "from pathlib import Path\n",
    "import re\n",
    "from .datatools import unzip_data, hash\n",
    "from .config import DOTPATH\n",
    "\n",
    "_REPO_NAME = \"repo\"\n",
    "\n",
    "\n",
    "class Repo:\n",
    "    def __init__(self, path):\n",
    "        _path = Path(path).resolve()\n",
    "        self.path: Path = _path / \"repo\"\n",
    "        self._ensure_dirs(self.path)\n",
    "\n",
    "    def _ensure_dirs(self, path):\n",
    "        path.mkdir(parents=True, exist_ok=True)\n",
    "        for dirname in [\"downloaded\", \"extracted\", \"dataset\"]:\n",
    "            _dir = path / dirname\n",
    "            _dir.mkdir(exist_ok=True)\n",
    "            setattr(self, dirname, _dir)\n",
    "\n",
    "    @classmethod\n",
    "    def here(cls):\n",
    "        return cls.at(\".\")\n",
    "\n",
    "    @classmethod\n",
    "    def at(cls, path):\n",
    "        return cls(path=Path(path))\n",
    "\n",
    "    @classmethod\n",
    "    def at_user_home(cls, dotpath=DOTPATH):\n",
    "        if not dotpath.startswith(\".\"):\n",
    "            dotpath = \".\" + dotpath\n",
    "        root = Path.home() / dotpath\n",
    "        return cls(root)\n",
    "\n",
    "    def unzip(self, url, resource_id: str = None):\n",
    "        if not resource_id:\n",
    "            resource_id = hash(url)\n",
    "        extract_dir = self.extracted / resource_id\n",
    "        print(\"Extracting files to\", extract_dir)\n",
    "        files = unzip_data(url, extract_dir)\n",
    "        return files\n",
    "\n",
    "    def __repr__(self):\n",
    "        return f\"Repo at {self.path}\"\n",
    "\n",
    "\n",
    "class OpenDataCanada(Repo):\n",
    "    def __init__(self):\n",
    "        super().__init__(\"https://open.canada.ca\")\n",
    "\n",
    "\n",
    "_DEFAULT_LOCALE = \"en\"\n",
    "\n",
    "DATASET_PATTERN = re.compile(\n",
    "    r\"(https?)://([a-zA-z0-9\\.]+)/(data/)?([a-z]{2})?/dataset/([^\\^ ]{3,})\"\n",
    ")\n",
    "\n",
    "\n",
    "class Dataset:\n",
    "    def __init__(\n",
    "        self,\n",
    "        ref_number: str,\n",
    "        title: str = None,\n",
    "        description: str = None,\n",
    "        id: str = None,\n",
    "        locale: str = None,\n",
    "    ):\n",
    "        self.ref_number = ref_number\n",
    "        self.id = id\n",
    "        self.locale = locale\n",
    "        self.title = title\n",
    "        self.description = description\n",
    "\n",
    "    def __repr__(self):\n",
    "        return f\"<Dataset: {self.ref_number} {self.title}>\"\n",
    "\n",
    "\n",
    "class IdAndLocale:\n",
    "    def __init__(self, id: str, locale: str = None):\n",
    "        self.id = id\n",
    "        self.locale = locale or _DEFAULT_LOCALE\n",
    "\n",
    "    def path(self):\n",
    "        return f\"{self.locale}/dataset/{self.id}\"\n",
    "\n",
    "    def __repr__(self):\n",
    "        return f\"<Dataset id:{self.id} locale:{self.locale}>\"\n",
    "\n",
    "    @classmethod\n",
    "    def parse(cls, url):\n",
    "        match = DATASET_PATTERN.match(url)\n",
    "        if not match:\n",
    "            print(\n",
    "                url + \" doesn't match <URL>/<HOST>/data/<LOCALE>/dataset/<DATASET_ID>\"\n",
    "            )\n",
    "            return None\n",
    "        assert match, (\n",
    "            url + \" doesn't match <URL>/<HOST>/data/<LOCALE>/dataset/<DATASET_ID>\"\n",
    "        )\n",
    "        locale, dataset_id = match.group(4), match.group(5)\n",
    "        return cls(dataset_id, locale)\n"
   ]
  },
  {
   "cell_type": "code",
   "execution_count": 1,
   "metadata": {},
   "outputs": [
    {
     "name": "stdout",
     "output_type": "stream",
     "text": [
      "Converted 00_core.ipynb.\n",
      "Converted 01_inventory.ipynb.\n",
      "Converted 02_repo.ipynb.\n",
      "Converted index.ipynb.\n"
     ]
    }
   ],
   "source": [
    "from nbdev.export import *\n",
    "notebook2script()"
   ]
  }
 ],
 "metadata": {
  "kernelspec": {
   "display_name": "ocandata",
   "language": "python",
   "name": "ocandata"
  },
  "language_info": {
   "codemirror_mode": {
    "name": "ipython",
    "version": 3
   },
   "file_extension": ".py",
   "mimetype": "text/x-python",
   "name": "python",
   "nbconvert_exporter": "python",
   "pygments_lexer": "ipython3",
   "version": "3.7.0"
  }
 },
 "nbformat": 4,
 "nbformat_minor": 2
}
