{
 "cells": [
  {
   "cell_type": "code",
   "execution_count": 1,
   "metadata": {},
   "outputs": [],
   "source": [
    "# default_exp core"
   ]
  },
  {
   "cell_type": "markdown",
   "metadata": {},
   "source": [
    "# text\n",
    "> API details."
   ]
  },
  {
   "cell_type": "code",
   "execution_count": 2,
   "metadata": {},
   "outputs": [],
   "source": [
    "#hide\n",
    "from nbdev.showdoc import *"
   ]
  },
  {
   "cell_type": "code",
   "execution_count": 3,
   "metadata": {},
   "outputs": [],
   "source": [
    "# export\n",
    "\n",
    "import pandas as pd\n",
    "from nltk.stem import PorterStemmer\n",
    "from nltk.tokenize import word_tokenize\n",
    "from rank_bm25 import BM25Okapi\n",
    "\n",
    "stemmer = PorterStemmer()\n",
    "\n",
    "\n",
    "def get_language(language: str):\n",
    "    if language:\n",
    "        language = language.lower()\n",
    "        if language == 'french' or language == 'fr' or language.startswith('fran'):\n",
    "            return 'French'\n",
    "\n",
    "\n",
    "def stem(string: str):\n",
    "    return stemmer.stem(string)\n",
    "\n",
    "\n",
    "def preprocess(string: str):\n",
    "    string = string.lower()\n",
    "    return [stem(word) for word in word_tokenize(string)]\n",
    "\n",
    "\n",
    "class Bm25Index:\n",
    "\n",
    "    def __init__(self, column):\n",
    "        column = column.fillna('').astype(str).apply(preprocess)\n",
    "        self.bm25 = BM25Okapi(column.tolist())\n",
    "\n",
    "    def get_scores(self, sentence, n=10):\n",
    "        tokenized_query = preprocess(sentence)\n",
    "        doc_scores = self.bm25.get_scores(tokenized_query)\n",
    "        top_indices = (-doc_scores).argsort()[:n]\n",
    "        top_scores = doc_scores[top_indices]\n",
    "        return top_indices, top_scores\n"
   ]
  },
  {
   "cell_type": "code",
   "execution_count": 4,
   "metadata": {},
   "outputs": [
    {
     "name": "stdout",
     "output_type": "stream",
     "text": [
      "Converted 00_core.ipynb.\n",
      "Converted 01_inventory.ipynb.\n",
      "Converted 02_repo.ipynb.\n",
      "Converted 03_statscan.ipynb.\n",
      "Converted 04_text.ipynb.\n",
      "Converted index.ipynb.\n"
     ]
    }
   ],
   "source": [
    "from nbdev.export import *\n",
    "notebook2script()"
   ]
  }
 ],
 "metadata": {
  "kernelspec": {
   "display_name": "ocandata",
   "language": "python",
   "name": "ocandata"
  },
  "language_info": {
   "codemirror_mode": {
    "name": "ipython",
    "version": 3
   },
   "file_extension": ".py",
   "mimetype": "text/x-python",
   "name": "python",
   "nbconvert_exporter": "python",
   "pygments_lexer": "ipython3",
   "version": "3.7.0"
  }
 },
 "nbformat": 4,
 "nbformat_minor": 2
}
