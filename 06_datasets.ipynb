{
 "cells": [
  {
   "cell_type": "code",
   "execution_count": null,
   "metadata": {},
   "outputs": [],
   "source": [
    "# default_exp datasets"
   ]
  },
  {
   "cell_type": "markdown",
   "metadata": {},
   "source": [
    "# datasets\n",
    "> API details."
   ]
  },
  {
   "cell_type": "code",
   "execution_count": null,
   "metadata": {},
   "outputs": [],
   "source": [
    "#hide\n",
    "from nbdev.showdoc import *"
   ]
  },
  {
   "cell_type": "code",
   "execution_count": null,
   "metadata": {},
   "outputs": [],
   "source": [
    "# export\n",
    "import pandas as pd\n",
    "\n",
    "_OPEN_CANADA_URL = \"https://open.canada.ca\"\n",
    "_OPEN_DATASET_ID = \"4ed351cf-95d8-4c10-97ac-6b3511f359b7\"\n",
    "_OPEN_RESOURCE_ID = \"d0df95a8-31a9-46c9-853b-6952819ec7b4\"\n",
    "_INVENTORY_URL = f\"https://open.canada.ca/data/dataset/{_OPEN_DATASET_ID}/resource/{_OPEN_RESOURCE_ID}/download/inventory.csv\"\n",
    "# https://open.canada.ca/data/dataset/4ed351cf-95d8-4c10-97ac-6b3511f359b7/resource/d0df95a8-31a9-46c9-853b-6952819ec7b4/download/inventory.csv\n",
    "\n",
    "inventory = pd.read_csv(_INVENTORY_URL)\n",
    "inventory = inventory[~inventory.date_released.isnull()]\n",
    "unreleased = inventory.date_released.isnull()\n",
    "unreleased_inventory = inventory[unreleased]\n",
    "\n",
    "_EN_COLS = [col for col in inventory.columns if not col.endswith(\"_fr\")]\n",
    "_FR_COLS = [col for col in inventory.columns if not col.endswith(\"_en\")]\n",
    "inventory_en = inventory[_EN_COLS]\n",
    "inventory_en.columns = [col.replace(\"_en\", \"\") for col in _EN_COLS]\n",
    "inventory_fr = inventory[_FR_COLS]\n",
    "inventory_fr.columns = [col.replace(\"_fr\", \"\") for col in _FR_COLS]\n",
    "\n",
    "inventory_en = inventory_en.rename(\n",
    "    columns={\"program_alignment_architecture\": \"program\"}\n",
    ").dropna(subset=[\"portal_url\"])\n",
    "inventory_fr = inventory_en.rename(\n",
    "    columns={\"program_alignment_architecture\": \"program\"}\n",
    ").dropna(subset=[\"portal_url\"])\n",
    "\n",
    "\n",
    "class Inventory:\n",
    "    def __init__(self):\n",
    "        pass\n"
   ]
  },
  {
   "cell_type": "code",
   "execution_count": null,
   "metadata": {},
   "outputs": [
    {
     "name": "stdout",
     "output_type": "stream",
     "text": [
      "Converted 00_config.ipynb.\n",
      "Converted 01_core.ipynb.\n",
      "Converted 02_inventory.ipynb.\n",
      "Converted 03_repo.ipynb.\n",
      "Converted 04_statscan.ipynb.\n",
      "Converted 05_text.ipynb.\n",
      "Converted 06_datasets.ipynb.\n",
      "Converted 07_datatools.ipynb.\n",
      "Converted index.ipynb.\n"
     ]
    }
   ],
   "source": [
    "from nbdev.export import *\n",
    "notebook2script()"
   ]
  }
 ],
 "metadata": {
  "kernelspec": {
   "display_name": "ocandata",
   "language": "python",
   "name": "ocandata"
  }
 },
 "nbformat": 4,
 "nbformat_minor": 2
}
