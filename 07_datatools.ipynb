{
 "cells": [
  {
   "cell_type": "code",
   "execution_count": null,
   "metadata": {},
   "outputs": [],
   "source": [
    "# default_exp datatools"
   ]
  },
  {
   "cell_type": "markdown",
   "metadata": {},
   "source": [
    "# datatools\n",
    "> API details."
   ]
  },
  {
   "cell_type": "code",
   "execution_count": null,
   "metadata": {},
   "outputs": [],
   "source": [
    "#hide\n",
    "from nbdev.showdoc import *"
   ]
  },
  {
   "cell_type": "code",
   "execution_count": null,
   "metadata": {},
   "outputs": [],
   "source": [
    "# export\n",
    "import requests, zipfile, io\n",
    "import os\n",
    "import hashlib\n",
    "\n",
    "\n",
    "def hash(data: str):\n",
    "    return hashlib.sha1(data.encode()).hexdigest()\n",
    "\n",
    "\n",
    "def unzip_data(zip_url: str, path=\".\"):\n",
    "    response = requests.get(zip_url)\n",
    "    zip_file = zipfile.ZipFile(io.BytesIO(response.content))\n",
    "    zip_file.extractall(path=path)\n",
    "    return tuple([os.path.join(path, f) for f in zip_file.namelist()])\n",
    "\n",
    "\n",
    "def get_filename_from_url(path: str):\n",
    "    \"\"\"\n",
    "    Get filename from path\n",
    "    \"\"\"\n",
    "    return path.split(\"/\")[-1]\n",
    "\n",
    "\n",
    "def download_file(url: str, path=\".\"):\n",
    "    response = requests.get(url)\n",
    "    filename = get_filename_from_url(url)\n",
    "    if path:\n",
    "        filename = os.path.join(path, filename)\n",
    "    with open(filename, \"wb\") as fd:\n",
    "        for chunk in response.iter_content(chunk_size=128):\n",
    "            fd.write(chunk)\n",
    "    return filename\n"
   ]
  },
  {
   "cell_type": "code",
   "execution_count": null,
   "metadata": {},
   "outputs": [
    {
     "name": "stdout",
     "output_type": "stream",
     "text": [
      "Converted 00_config.ipynb.\n",
      "Converted 01_core.ipynb.\n",
      "Converted 02_inventory.ipynb.\n",
      "Converted 03_repo.ipynb.\n",
      "Converted 04_statscan.ipynb.\n",
      "Converted 05_text.ipynb.\n",
      "Converted 06_datasets.ipynb.\n",
      "Converted 07_datatools.ipynb.\n",
      "Converted index.ipynb.\n"
     ]
    }
   ],
   "source": [
    "from nbdev.export import *\n",
    "notebook2script()"
   ]
  }
 ],
 "metadata": {
  "kernelspec": {
   "display_name": "ocandata",
   "language": "python",
   "name": "ocandata"
  }
 },
 "nbformat": 4,
 "nbformat_minor": 2
}
