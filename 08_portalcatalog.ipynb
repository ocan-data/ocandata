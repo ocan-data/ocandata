{
 "cells": [
  {
   "cell_type": "code",
   "execution_count": null,
   "metadata": {},
   "outputs": [],
   "source": [
    "# default_exp portalcatalog"
   ]
  },
  {
   "cell_type": "markdown",
   "metadata": {},
   "source": [
    "# portalcatalog\n",
    "> API Details\n"
   ]
  },
  {
   "cell_type": "markdown",
   "metadata": {},
   "source": [
    "### Imports"
   ]
  },
  {
   "cell_type": "code",
   "execution_count": null,
   "metadata": {},
   "outputs": [],
   "source": [
    "#export\n",
    "import urllib\n",
    "import gzip\n",
    "import json\n",
    "import pandas as pd\n",
    "from functools import partial"
   ]
  },
  {
   "cell_type": "markdown",
   "metadata": {},
   "source": [
    "### Utility Code"
   ]
  },
  {
   "cell_type": "code",
   "execution_count": null,
   "metadata": {},
   "outputs": [],
   "source": [
    "#export\n",
    "\n",
    "def read_gz(url:str):\n",
    "    response = urllib.request.urlopen(url)\n",
    "    decompressed_bytes = gzip.decompress(response.read())\n",
    "    text = decompressed_bytes.decode('utf-8')\n",
    "    return text\n",
    "\n",
    "def get_jsonlines(jsonl_content: str):\n",
    "    return [json.loads(jline) for jline in jsonl_content.split('\\n') if jline]"
   ]
  },
  {
   "cell_type": "markdown",
   "metadata": {},
   "source": [
    "### Portal Catalog Classes"
   ]
  },
  {
   "cell_type": "code",
   "execution_count": null,
   "metadata": {},
   "outputs": [],
   "source": [
    "#export\n",
    "def get_value_for_language(lang: str, value_dict: dict):\n",
    "    return value_dict.get(lang, None)\n",
    "    \n",
    "def get_datasets(jsonl_content: str):\n",
    "    return [Dataset(json.loads(jline)) for jline in jsonl_content.split('\\n') if jline]\n",
    "    \n",
    "class Dataset:\n",
    "    \n",
    "    \"\"\"\n",
    "    A dataset\n",
    "    \"\"\"\n",
    "    def __init__(self, record=None, language:str = 'en'):\n",
    "        self.record = record\n",
    "        self.resources = [Resource(record, language) for record in record['resources']]\n",
    "        self.language = language\n",
    "        for key, value in record.items():\n",
    "            if value:\n",
    "                if isinstance(value, dict):\n",
    "                    value_fn = partial(get_value_for_language, value_dict=value)\n",
    "                    setattr(self, f'get_{key}', value_fn)\n",
    "    \n",
    "    def get_org(self):\n",
    "        if hasattr(self, 'get_org_title_at_publication'):\n",
    "            return self.get_org_title_at_publication(self.language)\n",
    "        return 'Organization'\n",
    "    \n",
    "    def get_name(self):\n",
    "        if hasattr(self, 'get_data_series_name'):\n",
    "            return self.get_data_series_name(self.language)\n",
    "        return f'{self.get_org()} Dataset'\n",
    "                    \n",
    "    def get_notes(self, language:str = None):\n",
    "        language = language or self.language\n",
    "        return self.get_notes_translated(lang=language)\n",
    "    \n",
    "    def resources_as_html(self):\n",
    "        df= pd.DataFrame([{'name': resource.get_name(), 'state': resource.get_state()} \n",
    "                          for resource in self.resources])\n",
    "        return df.to_html(index=False)\n",
    "        \n",
    "    \n",
    "    def __repr__(self):\n",
    "        return f'Dataset {self.get_name()}'\n",
    "    \n",
    "    def _repr_html_(self):\n",
    "        html = f'<h3>{self.get_name()}</h3>'\n",
    "        html += f'<span>{self.get_notes()}</span>'\n",
    "        html += pd.DataFrame([{'Publisher': self.get_org()}]).to_html(index=False, justify='left')\n",
    "        html += '<h3>Resources</h3>'\n",
    "        html += self.resources_as_html()\n",
    "        return html\n",
    "    \n",
    "class Resource:\n",
    "    \n",
    "    \"\"\"\n",
    "    A resource. Belongs to a dataset, which will have 1 or more resources\n",
    "    \"\"\"\n",
    "    def __init__(self, record, language:str = 'en'):\n",
    "        self.record = record\n",
    "        self.id = record.get('id')\n",
    "        self.language = language\n",
    "    \n",
    "    def get_name(self):\n",
    "        return get_value_for_language(self.language, self.record.get('name_translated'))\n",
    "    \n",
    "    def get_state(self):\n",
    "        return self.record.get('state', '')\n",
    "    \n",
    "    def get_url(self):\n",
    "        return self.record.get('url', '')\n",
    "    \n",
    "    def __repr__(self):\n",
    "        return f'{self.get_name()}'\n",
    "    \n",
    "    def _repr_html_(self):\n",
    "        html = f'<h3>{self.get_name()}</h3>'\n",
    "        return html\n",
    "    \n",
    "    \n",
    "class PortalCatalog:\n",
    "    \n",
    "    \"\"\"\n",
    "    A portal catalog\n",
    "    \"\"\"\n",
    "    def __init__(self, jsonl_content: str):\n",
    "        self.datasets = get_datasets(jsonl_content)\n",
    "    \n",
    "    @classmethod\n",
    "    def from_jsonl(cls, jsonl_content: str):\n",
    "        return cls(jsonl_content)"
   ]
  },
  {
   "cell_type": "markdown",
   "metadata": {},
   "source": [
    "## Tests"
   ]
  },
  {
   "cell_type": "code",
   "execution_count": null,
   "metadata": {},
   "outputs": [],
   "source": [
    "url = 'http://open.canada.ca/static/od-do-canada.jl.gz'\n",
    "text = read_gz(url)\n",
    "lines = get_jsonlines(text)"
   ]
  },
  {
   "cell_type": "code",
   "execution_count": null,
   "metadata": {},
   "outputs": [],
   "source": [
    "#datasets = get_datasets(text)\n",
    "catalog = PortalCatalog.from_jsonl(text)"
   ]
  },
  {
   "cell_type": "code",
   "execution_count": null,
   "metadata": {},
   "outputs": [
    {
     "data": {
      "text/html": [
       "<h3></h3><span>This table is part of a series of tables that present a portrait of Canada based on the various census topics. The tables range in complexity and levels of geography. Content varies from a simple overview of the country to complex cross-tabulations; the tables may also cover several censuses.</span><table border=\"1\" class=\"dataframe\">\n",
       "  <thead>\n",
       "    <tr style=\"text-align: left;\">\n",
       "      <th>Publisher</th>\n",
       "    </tr>\n",
       "  </thead>\n",
       "  <tbody>\n",
       "    <tr>\n",
       "      <td>Statistics Canada</td>\n",
       "    </tr>\n",
       "  </tbody>\n",
       "</table><h3>Resources</h3><table border=\"1\" class=\"dataframe\">\n",
       "  <thead>\n",
       "    <tr style=\"text-align: right;\">\n",
       "      <th>name</th>\n",
       "      <th>state</th>\n",
       "    </tr>\n",
       "  </thead>\n",
       "  <tbody>\n",
       "    <tr>\n",
       "      <td>Dataset</td>\n",
       "      <td>active</td>\n",
       "    </tr>\n",
       "  </tbody>\n",
       "</table>"
      ],
      "text/plain": [
       "Dataset "
      ]
     },
     "execution_count": null,
     "metadata": {},
     "output_type": "execute_result"
    }
   ],
   "source": [
    "catalog.datasets[3000]"
   ]
  },
  {
   "cell_type": "code",
   "execution_count": null,
   "metadata": {},
   "outputs": [
    {
     "data": {
      "text/html": [
       "<h3>Link to Canada Land Survey Records</h3>"
      ],
      "text/plain": [
       "Link to Canada Land Survey Records"
      ]
     },
     "execution_count": null,
     "metadata": {},
     "output_type": "execute_result"
    }
   ],
   "source": [
    "catalog.datasets[560].resources[0]"
   ]
  },
  {
   "cell_type": "code",
   "execution_count": null,
   "metadata": {},
   "outputs": [
    {
     "data": {
      "text/plain": [
       "{'association_type': [],\n",
       " 'audience': [],\n",
       " 'author': None,\n",
       " 'author_email': 'open-ouvert@tbs-sct.gc.ca',\n",
       " 'collection': 'primary',\n",
       " 'contributor': {},\n",
       " 'creator_user_id': 'aa584ab4-544c-4c5c-81da-d1cff9bd96fa',\n",
       " 'data_series_issue_identification': {'en': '', 'fr': ''},\n",
       " 'data_series_name': {'en': '', 'fr': ''},\n",
       " 'date_published': '2003-02-11 00:00:00',\n",
       " 'digital_object_identifier': '',\n",
       " 'display_flags': [],\n",
       " 'frequency': 'unknown',\n",
       " 'geographic_region': [],\n",
       " 'groups': [],\n",
       " 'id': '0955056e-2ee3-4bed-92a0-9f4d946e0194',\n",
       " 'imso_approval': 'true',\n",
       " 'isopen': False,\n",
       " 'jurisdiction': 'federal',\n",
       " 'keywords': {'en': ['census of population'],\n",
       "  'fr': ['recensement de la population']},\n",
       " 'license_id': 'ca-ogl-lgo',\n",
       " 'license_title': 'Open Government Licence - Canada',\n",
       " 'license_url': 'http://open.canada.ca/en/open-government-licence-canada',\n",
       " 'maintainer': None,\n",
       " 'maintainer_email': 'open-ouvert@tbs-sct.gc.ca',\n",
       " 'metadata_contact': {},\n",
       " 'metadata_created': '2016-09-24T01:25:25.743264',\n",
       " 'metadata_modified': '2016-12-01T18:06:30.198492',\n",
       " 'name': '0955056e-2ee3-4bed-92a0-9f4d946e0194',\n",
       " 'notes': 'This table is part of a series of tables that present a portrait of Canada based on the various census topics. The tables range in complexity and levels of geography. Content varies from a simple overview of the country to complex cross-tabulations; the tables may also cover several censuses.',\n",
       " 'notes_translated': {'en': 'This table is part of a series of tables that present a portrait of Canada based on the various census topics. The tables range in complexity and levels of geography. Content varies from a simple overview of the country to complex cross-tabulations; the tables may also cover several censuses.',\n",
       "  'fr': \"Ce tableau fait partie d'une série de tableaux qui présente un portrait du Canada selon les divers thèmes du recensement. Ces tableaux varient selon la complexité et les niveaux géographiques. Le contenu varie d'un simple aperçu du pays à des tableaux croisés plus complexes; les tableaux peuvent également présenter des données provenant de plusieurs recensements.\"},\n",
       " 'num_resources': 1,\n",
       " 'num_tags': 0,\n",
       " 'org_section': {},\n",
       " 'org_title_at_publication': {'en': 'Statistics Canada',\n",
       "  'fr': 'Statistique Canada'},\n",
       " 'organization': {'approval_status': 'approved',\n",
       "  'created': '2016-09-23T17:26:15.123077',\n",
       "  'description': '',\n",
       "  'id': 'A0F0FCFC-BC3B-4696-8B6D-E7E411D55BAC',\n",
       "  'image_url': '',\n",
       "  'is_organization': True,\n",
       "  'name': 'statcan',\n",
       "  'revision_id': 'd6eb738d-1e03-4220-bdb8-35ee6754aba6',\n",
       "  'state': 'active',\n",
       "  'title': 'Statistics Canada | Statistique Canada',\n",
       "  'type': 'organization'},\n",
       " 'owner_org': 'A0F0FCFC-BC3B-4696-8B6D-E7E411D55BAC',\n",
       " 'place_of_publication': [],\n",
       " 'portal_release_date': '2013-06-18',\n",
       " 'position_name': {},\n",
       " 'presentation_form': '',\n",
       " 'private': False,\n",
       " 'program_page_url': {},\n",
       " 'ready_to_publish': 'false',\n",
       " 'relationships_as_object': [],\n",
       " 'relationships_as_subject': [],\n",
       " 'resources': [{'cache_last_updated': None,\n",
       "   'cache_url': None,\n",
       "   'created': '2016-12-01T13:06:30.623442',\n",
       "   'data_quality': [],\n",
       "   'datastore_active': False,\n",
       "   'description': '',\n",
       "   'format': 'XML',\n",
       "   'hash': '',\n",
       "   'id': '0949165b-53bc-45cf-950e-5c34530c8c8e',\n",
       "   'language': ['en', 'fr'],\n",
       "   'last_modified': None,\n",
       "   'mimetype': None,\n",
       "   'mimetype_inner': None,\n",
       "   'name': 'Dataset',\n",
       "   'name_translated': {'en': 'Dataset', 'fr': 'Ensemble de données'},\n",
       "   'package_id': '0955056e-2ee3-4bed-92a0-9f4d946e0194',\n",
       "   'position': 0,\n",
       "   'resource_group_id': '483f462b-6c7c-4ce5-90ef-b2919eb14c60',\n",
       "   'resource_type': 'dataset',\n",
       "   'revision_id': '4d197bfa-5442-4989-a299-cb4a8b51f91e',\n",
       "   'state': 'active',\n",
       "   'url': 'http://www12.statcan.gc.ca/open-gc-ouvert/?CTLG=97F0012XCB2001010',\n",
       "   'url_type': None}],\n",
       " 'restrictions': 'unrestricted',\n",
       " 'revision_id': 'ee0678d1-9e28-4141-8346-5a9233a641f8',\n",
       " 'spatial': '',\n",
       " 'spatial_representation_type': [],\n",
       " 'state': 'active',\n",
       " 'subject': ['persons'],\n",
       " 'tags': [],\n",
       " 'title': 'Industry - 1997 North American Industry Classification System (23), Class of Worker (6) and Sex (3) for Labour Force 15 Years and Over, for Canada, Provinces, Territories, Census Metropolitan Areas and Census Agglomerations, 2001 Census - 20% Sample Data',\n",
       " 'title_translated': {'en': 'Industry - 1997 North American Industry Classification System (23), Class of Worker (6) and Sex (3) for Labour Force 15 Years and Over, for Canada, Provinces, Territories, Census Metropolitan Areas and Census Agglomerations, 2001 Census - 20% Sample Data',\n",
       "  'fr': \"Industrie - Système de classification des industries de l'Amérique du Nord 1997 (23), catégorie de travailleurs (6) et sexe (3) pour la population active de 15 ans et plus, pour le Canada, les provinces, les territoires, les régions métropolitaines de recensement et les agglomérations de recensement, recensement de 2001 - Données-échantillon (20 %)\"},\n",
       " 'topic_category': [],\n",
       " 'type': 'dataset',\n",
       " 'url': \"{u'fr': u'http://www12.statcan.ca/census-recensement/index-fra.cfm', u'en': u'http://www12.statcan.ca/census-recensement/index-eng.cfm'}\",\n",
       " 'version': None}"
      ]
     },
     "execution_count": null,
     "metadata": {},
     "output_type": "execute_result"
    }
   ],
   "source": [
    "lines[3000]"
   ]
  },
  {
   "cell_type": "code",
   "execution_count": null,
   "metadata": {},
   "outputs": [
    {
     "data": {
      "text/html": [
       "<h3>Table</h3><span><p>This table contains 205632 series, with data for years 2005 - 2005 (not all combinations necessarily have data for all years).  This table contains data described by the following dimensions (Not all combinations are available): Geography (160 items: Canada; Newfoundland and Labrador; Eastern Regional Integrated Health Authority; Newfoundland and Labrador; Central Regional Integrated Health Authority; Newfoundland and Labrador ...), Age group (14 items: Total; 12 years and over;12 to 14 years;15 to 19 years;12 to 19 years ...), Sex (3 items: Both sexes; Females; Males ...), Exposure to second-hand smoke in vehicles and public places (4 items: Total non-smoking population; Exposed to second-hand smoke in the past month; in public places; Exposure to second-hand smoke in the past month; in vehicles and public places; not stated; Exposed to second-hand smoke in the past month; in vehicles ...), Characteristics (8 items: Number of persons; High 95% confidence interval; number of persons; Coefficient of variation for number of persons; Low 95% confidence interval; number of persons ...).</p></span><table border=\"1\" class=\"dataframe\">\n",
       "  <thead>\n",
       "    <tr style=\"text-align: left;\">\n",
       "      <th>Publisher</th>\n",
       "    </tr>\n",
       "  </thead>\n",
       "  <tbody>\n",
       "    <tr>\n",
       "      <td>Statistics Canada</td>\n",
       "    </tr>\n",
       "  </tbody>\n",
       "</table><h3>Resources</h3><table border=\"1\" class=\"dataframe\">\n",
       "  <thead>\n",
       "    <tr style=\"text-align: right;\">\n",
       "      <th>name</th>\n",
       "      <th>state</th>\n",
       "    </tr>\n",
       "  </thead>\n",
       "  <tbody>\n",
       "    <tr>\n",
       "      <td>Dataset</td>\n",
       "      <td>active</td>\n",
       "    </tr>\n",
       "    <tr>\n",
       "      <td>Dataset</td>\n",
       "      <td>active</td>\n",
       "    </tr>\n",
       "    <tr>\n",
       "      <td>Dataset</td>\n",
       "      <td>active</td>\n",
       "    </tr>\n",
       "    <tr>\n",
       "      <td>Supporting Document</td>\n",
       "      <td>active</td>\n",
       "    </tr>\n",
       "    <tr>\n",
       "      <td>Supporting Document</td>\n",
       "      <td>active</td>\n",
       "    </tr>\n",
       "  </tbody>\n",
       "</table>"
      ],
      "text/plain": [
       "Dataset Table"
      ]
     },
     "execution_count": null,
     "metadata": {},
     "output_type": "execute_result"
    }
   ],
   "source": [
    "ds: Dataset = Dataset(lines[1020])\n",
    "ds"
   ]
  },
  {
   "cell_type": "code",
   "execution_count": null,
   "metadata": {},
   "outputs": [],
   "source": [
    "import pandas as pd\n",
    "pd.options.display.max_columns = 30\n",
    "pd.DataFrame(lines[0]['resources'])"
   ]
  },
  {
   "cell_type": "code",
   "execution_count": null,
   "metadata": {},
   "outputs": [],
   "source": [
    "ds.date_published"
   ]
  },
  {
   "cell_type": "code",
   "execution_count": null,
   "metadata": {},
   "outputs": [],
   "source": [
    "ds.ready_to_publish"
   ]
  },
  {
   "cell_type": "code",
   "execution_count": null,
   "metadata": {},
   "outputs": [],
   "source": [
    "ds.title"
   ]
  }
 ],
 "metadata": {
  "kernelspec": {
   "display_name": "ocandata",
   "language": "python",
   "name": "ocandata"
  }
 },
 "nbformat": 4,
 "nbformat_minor": 2
}
