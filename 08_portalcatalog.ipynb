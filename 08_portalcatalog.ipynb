{
 "cells": [
  {
   "cell_type": "code",
   "execution_count": null,
   "metadata": {},
   "outputs": [],
   "source": [
    "# default_exp portalcatalog"
   ]
  },
  {
   "cell_type": "markdown",
   "metadata": {},
   "source": [
    "# portalcatalog\n",
    "> API Details\n"
   ]
  },
  {
   "cell_type": "code",
   "execution_count": null,
   "metadata": {},
   "outputs": [],
   "source": [
    "#export\n",
    "import urllib\n",
    "import gzip\n",
    "import json\n",
    "import pandas as pd\n",
    "from functools import partial"
   ]
  },
  {
   "cell_type": "code",
   "execution_count": null,
   "metadata": {},
   "outputs": [],
   "source": [
    "#export\n",
    "\n",
    "def read_gz(url:str):\n",
    "    response = urllib.request.urlopen(url)\n",
    "    decompressed_bytes = gzip.decompress(response.read())\n",
    "    text = decompressed_bytes.decode('utf-8')\n",
    "    return text\n",
    "\n",
    "def get_jsonlines(jsonl_content: str):\n",
    "    return [json.loads(jline) for jline in jsonl_content.split('\\n') if jline]"
   ]
  },
  {
   "cell_type": "code",
   "execution_count": null,
   "metadata": {},
   "outputs": [],
   "source": [
    "#export\n",
    "def get_value_for_language(lang: str, value_dict: dict):\n",
    "    return value_dict.get(lang, None)\n",
    "    \n",
    "def get_datasets(jsonl_content: str):\n",
    "    return [CatalogDataset(json.loads(jline)) for jline in jsonl_content.split('\\n') if jline]\n",
    "    \n",
    "class CatalogDataset:\n",
    "    \n",
    "    \"\"\"\n",
    "    A dataset\n",
    "    \"\"\"\n",
    "    def __init__(self, record=None, language:str = 'en'):\n",
    "        self.record = record\n",
    "        self.resources = [CatalogResource(record, language) for record in record['resources']]\n",
    "        self.language = language\n",
    "        for key, value in record.items():\n",
    "            if value:\n",
    "                if isinstance(value, dict):\n",
    "                    value_fn = partial(get_value_for_language, value_dict=value)\n",
    "                    setattr(self, f'get_{key}', value_fn)\n",
    "    \n",
    "    def get_org(self):\n",
    "        if hasattr(self, 'get_org_title_at_publication'):\n",
    "            return self.get_org_title_at_publication(self.language)\n",
    "        return 'Organization'\n",
    "    \n",
    "    def get_name(self):\n",
    "        if hasattr(self, 'get_data_series_name'):\n",
    "            return self.get_data_series_name(self.language)\n",
    "        return f'{self.get_org()} Dataset'\n",
    "                    \n",
    "    def get_notes(self, language:str = None):\n",
    "        language = language or self.language\n",
    "        return self.get_notes_translated(lang=language)\n",
    "    \n",
    "    def resources_as_html(self):\n",
    "        df= pd.DataFrame([{'name': resource.get_name(), 'state': resource.get_state()} \n",
    "                          for resource in self.resources])\n",
    "        return df.to_html(index=False)\n",
    "        \n",
    "    \n",
    "    def __repr__(self):\n",
    "        return f'Dataset {self.get_name()}'\n",
    "    \n",
    "    def _repr_html_(self):\n",
    "        html = f'<h3>{self.get_name()}</h3>'\n",
    "        html += f'<span>{self.get_notes()}</span>'\n",
    "        html += pd.DataFrame([{'Publisher': self.get_org()}]).to_html(index=False, justify='left')\n",
    "        html += '<h3>Resources</h3>'\n",
    "        html += self.resources_as_html()\n",
    "        return html\n",
    "    \n",
    "class CatalogResource:\n",
    "    \n",
    "    \"\"\"\n",
    "    A resource. Belongs to a dataset, which will have 1 or more resources\n",
    "    \"\"\"\n",
    "    def __init__(self, record, language:str = 'en'):\n",
    "        self.record = record\n",
    "        self.id = record.get('id')\n",
    "        self.language = language\n",
    "    \n",
    "    def get_name(self):\n",
    "        return get_value_for_language(self.language, self.record.get('name_translated'))\n",
    "    \n",
    "    def get_state(self):\n",
    "        return self.record.get('state', '')\n",
    "    \n",
    "    def get_url(self):\n",
    "        return self.record.get('url', '')\n",
    "    \n",
    "    def __repr__(self):\n",
    "        return f'{self.get_name()}'\n",
    "    \n",
    "    def _repr_html_(self):\n",
    "        html = f'<h3>{self.get_name()}</h3>'\n",
    "        return html\n",
    "    \n",
    "    \n",
    "class PortalCatalog:\n",
    "    \n",
    "    \"\"\"\n",
    "    A portal catalog\n",
    "    \"\"\"\n",
    "    def __init__(self, jsonl_content: str):\n",
    "        self.datasets = get_datasets(jsonl_content)\n",
    "    \n",
    "    @classmethod\n",
    "    def from_jsonl(cls, jsonl_content: str):\n",
    "        return cls(jsonl_content)"
   ]
  },
  {
   "cell_type": "code",
   "execution_count": null,
   "metadata": {},
   "outputs": [
    {
     "name": "stdout",
     "output_type": "stream",
     "text": [
      "Converted 00_config.ipynb.\n",
      "Converted 01_core.ipynb.\n",
      "Converted 02_text.ipynb.\n",
      "Converted 03_inventory.ipynb.\n",
      "Converted 04_repo.ipynb.\n",
      "Converted 05_datatools.ipynb.\n",
      "Converted 06_datasets.ipynb.\n",
      "Converted 07_statscan.ipynb.\n",
      "Converted 08_portalcatalog.ipynb.\n",
      "Converted index.ipynb.\n"
     ]
    }
   ],
   "source": [
    "from nbdev.export import *\n",
    "notebook2script()"
   ]
  },
  {
   "cell_type": "code",
   "execution_count": null,
   "metadata": {},
   "outputs": [],
   "source": []
  }
 ],
 "metadata": {
  "kernelspec": {
   "display_name": "ocandata",
   "language": "python",
   "name": "ocandata"
  }
 },
 "nbformat": 4,
 "nbformat_minor": 2
}
